{
 "cells": [
  {
   "cell_type": "code",
   "execution_count": 42,
   "metadata": {},
   "outputs": [],
   "source": [
    "import requests\n",
    "import json\n",
    "import lxml\n",
    "import sys\n",
    "from datetime import datetime, date"
   ]
  },
  {
   "cell_type": "code",
   "execution_count": 6,
   "metadata": {},
   "outputs": [],
   "source": [
    "BASE_URL = 'https://oscar.wmo.int/surface/rest/api'\n",
    "SEARCH_API = BASE_URL + '/search/station?'\n",
    "STATION_DETAILS = BASE_URL + '/stations/station/'"
   ]
  },
  {
   "cell_type": "code",
   "execution_count": 69,
   "metadata": {},
   "outputs": [],
   "source": [
    "# we search for Japanese stations\n",
    "arg = \"territoryName=ROU&territoryName=landFixed\""
   ]
  },
  {
   "cell_type": "code",
   "execution_count": 70,
   "metadata": {},
   "outputs": [],
   "source": [
    "r  = requests.get(SEARCH_API + arg)\n",
    "if r.status_code != 200:\n",
    "    print(\"ERROR: status: {}\".format(r.status_code))\n",
    "    sys.exit(1)"
   ]
  },
  {
   "cell_type": "code",
   "execution_count": 71,
   "metadata": {},
   "outputs": [
    {
     "name": "stdout",
     "output_type": "stream",
     "text": [
      "we have 167 results\n"
     ]
    }
   ],
   "source": [
    "result = r.json()\n",
    "print(\"we have {} results\".format(len(result)))"
   ]
  },
  {
   "cell_type": "code",
   "execution_count": 72,
   "metadata": {},
   "outputs": [
    {
     "data": {
      "text/plain": [
       "{'id': 3656,\n",
       " 'name': 'ADAMCLISI',\n",
       " 'region': 'Europe',\n",
       " 'territory': 'Romania',\n",
       " 'declaredStatus': 'Operational',\n",
       " 'latitude': 44.0882700719,\n",
       " 'longitude': 27.965626028,\n",
       " 'elevation': 158,\n",
       " 'stationTypeName': 'Land (fixed)',\n",
       " 'wigosStationIdentifiers': [{'wigosStationIdentifier': '0-20000-0-15479',\n",
       "   'primary': True}],\n",
       " 'stationTypeId': 1,\n",
       " 'dateEstablished': '1956-07-31T23:00:00.000+0000',\n",
       " 'stationStatusCode': 'operational',\n",
       " 'stationTypeCode': 'landOceanSurface',\n",
       " 'stationProgramsDeclaredStatuses': 'GOS:Operational'}"
      ]
     },
     "execution_count": 72,
     "metadata": {},
     "output_type": "execute_result"
    }
   ],
   "source": [
    "# no modification date\n",
    "result[0]"
   ]
  },
  {
   "cell_type": "code",
   "execution_count": 73,
   "metadata": {},
   "outputs": [
    {
     "name": "stdout",
     "output_type": "stream",
     "text": [
      "downloaded 3656\n",
      "downloaded 3571\n",
      "downloaded 3567\n",
      "downloaded 3659\n",
      "downloaded 3614\n",
      "downloaded 3564\n",
      "downloaded 3549\n",
      "downloaded 3637\n",
      "downloaded 3511\n",
      "downloaded 3623\n",
      "downloaded 3652\n",
      "downloaded 3553\n",
      "downloaded 3586\n",
      "downloaded 3590\n",
      "downloaded 3569\n",
      "downloaded 3562\n",
      "downloaded 3529\n",
      "downloaded 3542\n",
      "downloaded 3662\n",
      "downloaded 3589\n",
      "downloaded 3526\n",
      "downloaded 3568\n",
      "downloaded 3585\n",
      "downloaded 3530\n",
      "downloaded 3513\n",
      "downloaded 3622\n",
      "downloaded 3608\n",
      "downloaded 3594\n",
      "downloaded 3548\n",
      "downloaded 3641\n",
      "downloaded 3640\n",
      "downloaded 3642\n",
      "downloaded 3620\n",
      "downloaded 538\n",
      "downloaded 3658\n",
      "downloaded 3650\n",
      "downloaded 3527\n",
      "downloaded 3552\n",
      "downloaded 3619\n",
      "downloaded 3605\n",
      "downloaded 3653\n",
      "downloaded 3591\n",
      "downloaded 3533\n",
      "downloaded 3647\n",
      "downloaded 3544\n",
      "downloaded 3540\n",
      "downloaded 3657\n",
      "downloaded 32681\n",
      "downloaded 3634\n",
      "downloaded 3520\n",
      "downloaded 3648\n",
      "downloaded 3601\n",
      "downloaded 3618\n",
      "downloaded 133\n",
      "downloaded 3507\n",
      "downloaded 3525\n",
      "downloaded 3572\n",
      "downloaded 3630\n",
      "downloaded 3636\n",
      "downloaded 3560\n",
      "downloaded 3545\n",
      "downloaded 3574\n",
      "downloaded 3646\n",
      "downloaded 3582\n",
      "downloaded 3595\n",
      "downloaded 539\n",
      "downloaded 3598\n",
      "downloaded 3661\n",
      "downloaded 3610\n",
      "downloaded 3632\n",
      "downloaded 3644\n",
      "downloaded 3558\n",
      "downloaded 3633\n",
      "downloaded 3537\n",
      "downloaded 55970\n",
      "downloaded 3531\n",
      "downloaded 3528\n",
      "downloaded 3516\n",
      "downloaded 3580\n",
      "downloaded 3576\n",
      "downloaded 3543\n",
      "downloaded 3635\n",
      "downloaded 3581\n",
      "downloaded 3584\n",
      "downloaded 3611\n",
      "downloaded 3664\n",
      "downloaded 3651\n",
      "downloaded 3556\n",
      "downloaded 3629\n",
      "downloaded 3616\n",
      "downloaded 32899\n",
      "downloaded 3536\n",
      "downloaded 3593\n",
      "downloaded 3512\n",
      "downloaded 3555\n",
      "downloaded 3655\n",
      "downloaded 3524\n",
      "downloaded 3612\n",
      "downloaded 3578\n",
      "downloaded 3604\n",
      "downloaded 3607\n",
      "downloaded 3588\n",
      "downloaded 3592\n",
      "downloaded 3534\n",
      "downloaded 3625\n",
      "downloaded 3627\n",
      "downloaded 3522\n",
      "downloaded 3615\n",
      "downloaded 3596\n",
      "downloaded 31722\n",
      "downloaded 3509\n",
      "downloaded 3597\n",
      "downloaded 3617\n",
      "downloaded 3599\n",
      "downloaded 3535\n",
      "downloaded 3559\n",
      "downloaded 3654\n",
      "downloaded 3517\n",
      "downloaded 3563\n",
      "downloaded 3541\n",
      "downloaded 3510\n",
      "downloaded 3573\n",
      "downloaded 3600\n",
      "downloaded 3575\n",
      "downloaded 3628\n",
      "downloaded 3579\n",
      "downloaded 3508\n",
      "downloaded 3606\n",
      "downloaded 3557\n",
      "downloaded 3645\n",
      "downloaded 3643\n",
      "downloaded 3538\n",
      "downloaded 3515\n",
      "downloaded 3551\n",
      "downloaded 3638\n",
      "downloaded 3514\n",
      "downloaded 3621\n",
      "downloaded 3518\n",
      "downloaded 540\n",
      "downloaded 541\n",
      "downloaded 3602\n",
      "downloaded 3626\n",
      "downloaded 3519\n",
      "downloaded 3624\n",
      "downloaded 3523\n",
      "downloaded 3561\n",
      "downloaded 3570\n",
      "downloaded 3613\n",
      "downloaded 3547\n",
      "downloaded 3554\n",
      "downloaded 3566\n",
      "downloaded 3583\n",
      "downloaded 3577\n",
      "downloaded 3639\n",
      "downloaded 3532\n",
      "downloaded 3609\n",
      "downloaded 3546\n",
      "downloaded 3660\n",
      "downloaded 3631\n",
      "downloaded 3565\n",
      "downloaded 3587\n",
      "downloaded 3550\n",
      "downloaded 3649\n",
      "downloaded 3539\n",
      "downloaded 3603\n",
      "downloaded 3521\n",
      "downloaded 3663\n"
     ]
    }
   ],
   "source": [
    "# loop over result and get the station details for each station\n",
    "station_details = {}\n",
    "for station in result:\n",
    "    internal_id = station[\"id\"]\n",
    "    r = requests.get(STATION_DETAILS + \"{internal_id}/stationReport\".format(internal_id=internal_id))\n",
    "    \n",
    "    if r.status_code == 200:\n",
    "        station_details[str(internal_id)] = r.json()\n",
    "        print(\"downloaded {internal_id}\".format(internal_id=internal_id))\n",
    "    else:\n",
    "        print(\"warning.. could not load station with id {internal_id}\".format(internal_id=internal_id))"
   ]
  },
  {
   "cell_type": "code",
   "execution_count": 74,
   "metadata": {},
   "outputs": [
    {
     "ename": "KeyError",
     "evalue": "'3695'",
     "output_type": "error",
     "traceback": [
      "\u001b[1;31m---------------------------------------------------------------------------\u001b[0m",
      "\u001b[1;31mKeyError\u001b[0m                                  Traceback (most recent call last)",
      "\u001b[1;32m<ipython-input-74-073cf9a5714b>\u001b[0m in \u001b[0;36m<module>\u001b[1;34m\u001b[0m\n\u001b[1;32m----> 1\u001b[1;33m \u001b[0mstation_details\u001b[0m\u001b[1;33m[\u001b[0m\u001b[1;34m\"3695\"\u001b[0m\u001b[1;33m]\u001b[0m\u001b[1;33m\u001b[0m\u001b[1;33m\u001b[0m\u001b[0m\n\u001b[0m",
      "\u001b[1;31mKeyError\u001b[0m: '3695'"
     ]
    }
   ],
   "source": [
    "station_details[\"3695\"]"
   ]
  },
  {
   "cell_type": "code",
   "execution_count": null,
   "metadata": {},
   "outputs": [],
   "source": [
    "stations_modified = { internal_id: datetime.strptime( station['lastModifiedOn'],\"%Y-%M-%d\")  for internal_id,station in station_details.items()   }\n"
   ]
  },
  {
   "cell_type": "code",
   "execution_count": null,
   "metadata": {},
   "outputs": [],
   "source": [
    "my_stations = [ internal_id for internal_id,moddate in stations_modified.items() if moddate > datetime(2019,1,1)   ]"
   ]
  },
  {
   "cell_type": "code",
   "execution_count": null,
   "metadata": {},
   "outputs": [],
   "source": [
    "my_stations"
   ]
  },
  {
   "cell_type": "code",
   "execution_count": null,
   "metadata": {},
   "outputs": [],
   "source": [
    "for idx in my_stations:\n",
    "    name=station_details[idx]['name']\n",
    "    print(\"{name} was modified on {moddate}\".format(name=name,moddate=stations_modified[idx]))\n",
    "    "
   ]
  },
  {
   "cell_type": "code",
   "execution_count": null,
   "metadata": {},
   "outputs": [],
   "source": []
  }
 ],
 "metadata": {
  "kernelspec": {
   "display_name": "Python 3",
   "language": "python",
   "name": "python3"
  },
  "language_info": {
   "codemirror_mode": {
    "name": "ipython",
    "version": 3
   },
   "file_extension": ".py",
   "mimetype": "text/x-python",
   "name": "python",
   "nbconvert_exporter": "python",
   "pygments_lexer": "ipython3",
   "version": "3.7.3"
  }
 },
 "nbformat": 4,
 "nbformat_minor": 2
}
