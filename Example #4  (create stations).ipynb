{
 "cells": [
  {
   "cell_type": "markdown",
   "metadata": {},
   "source": [
    "Batch creating stations in OSCAR/Surface\n",
    "---\n",
    "> **Example #4:** We will create a list of stations from Brazil. The information about new stations is contained in an Excel file which I converted into CSV. Before creating new stations we need to process the information in the Excel sheet.\n",
    "We need to do two things. First, to rename the columns so that they correspond to the expected names. Second, to translate the values into WIGOS Metadata Standard code-list values.\n",
    "\n",
    "***Note***: ..\n",
    "\n"
   ]
  },
  {
   "cell_type": "code",
   "execution_count": 1,
   "metadata": {},
   "outputs": [
    {
     "name": "stderr",
     "output_type": "stream",
     "text": [
      "INFO:root:loading schema files\n",
      "INFO:root:schema parsed sucessfully\n",
      "INFO:root:schema parsed sucessfully\n",
      "INFO:root:loading XSLT files\n",
      "INFO:root:XSLT parsed sucessfully\n",
      "INFO:root:XSLT simple2wmdr parsed sucessfully\n"
     ]
    }
   ],
   "source": [
    "import json\n",
    "import sys\n",
    "import logging\n",
    "logging.basicConfig(level=logging.INFO)\n",
    "logging.getLogger(\"dicttoxml\").setLevel(logging.WARNING)\n",
    "logging.getLogger(\"oscar-lib\").setLevel(logging.INFO)\n",
    "\n",
    "\n",
    "import pandas as pd\n",
    "import re\n",
    "logging.basicConfig(level=logging.INFO)\n",
    "\n",
    "from oscar_lib import OscarClient, Station"
   ]
  },
  {
   "cell_type": "markdown",
   "metadata": {},
   "source": [
    "# checking the Excel sheet\n",
    "---\n",
    "> We need to make sure the values in the Excel sheet correspond to the WIGOS metadata standard codelists in https://codes.wmo.int/_wmdr"
   ]
  },
  {
   "cell_type": "code",
   "execution_count": 2,
   "metadata": {},
   "outputs": [
    {
     "data": {
      "text/html": [
       "<div>\n",
       "<style scoped>\n",
       "    .dataframe tbody tr th:only-of-type {\n",
       "        vertical-align: middle;\n",
       "    }\n",
       "\n",
       "    .dataframe tbody tr th {\n",
       "        vertical-align: top;\n",
       "    }\n",
       "\n",
       "    .dataframe thead th {\n",
       "        text-align: right;\n",
       "    }\n",
       "</style>\n",
       "<table border=\"1\" class=\"dataframe\">\n",
       "  <thead>\n",
       "    <tr style=\"text-align: right;\">\n",
       "      <th></th>\n",
       "      <th>name</th>\n",
       "      <th>wigosid</th>\n",
       "      <th>stationtype</th>\n",
       "      <th>automatic</th>\n",
       "      <th>latitude</th>\n",
       "      <th>longitude</th>\n",
       "      <th>elevation</th>\n",
       "      <th>established</th>\n",
       "      <th>international</th>\n",
       "      <th>manufacturer</th>\n",
       "      <th>...</th>\n",
       "      <th>real-time</th>\n",
       "      <th>affiliations</th>\n",
       "      <th>frequency</th>\n",
       "      <th>variables</th>\n",
       "      <th>region</th>\n",
       "      <th>country</th>\n",
       "      <th>timezone</th>\n",
       "      <th>url</th>\n",
       "      <th>other link (url)</th>\n",
       "      <th>description</th>\n",
       "    </tr>\n",
       "  </thead>\n",
       "  <tbody>\n",
       "    <tr>\n",
       "      <th>0</th>\n",
       "      <td>Novo Aripuanã</td>\n",
       "      <td>0-76-0-1303304000000594</td>\n",
       "      <td>Land (Fixed)</td>\n",
       "      <td>automatic</td>\n",
       "      <td>-5.141139</td>\n",
       "      <td>-60.380531</td>\n",
       "      <td>45.0</td>\n",
       "      <td>2019-07-18</td>\n",
       "      <td>yes</td>\n",
       "      <td>Vaisala</td>\n",
       "      <td>...</td>\n",
       "      <td>yes</td>\n",
       "      <td>GOS</td>\n",
       "      <td>1 hour</td>\n",
       "      <td>Air Temperature (inst, max, min), Relative Hum...</td>\n",
       "      <td>III - South America</td>\n",
       "      <td>Brazil</td>\n",
       "      <td>UTC-4</td>\n",
       "      <td>http://tempo.inmet.gov.br/WSI/0-76-0-130330400...</td>\n",
       "      <td>https://cidades.ibge.gov.br/brasil/am/novo-ari...</td>\n",
       "      <td>Automatic weather station</td>\n",
       "    </tr>\n",
       "    <tr>\n",
       "      <th>1</th>\n",
       "      <td>Redenção</td>\n",
       "      <td>0-76-0-1506139000000593</td>\n",
       "      <td>Land (Fixed)</td>\n",
       "      <td>automatic</td>\n",
       "      <td>-8.043250</td>\n",
       "      <td>-50.006917</td>\n",
       "      <td>199.0</td>\n",
       "      <td>2019-06-17</td>\n",
       "      <td>yes</td>\n",
       "      <td>Vaisala</td>\n",
       "      <td>...</td>\n",
       "      <td>yes</td>\n",
       "      <td>GOS</td>\n",
       "      <td>1 hour</td>\n",
       "      <td>Air Temperature (inst, max, min), Relative Hum...</td>\n",
       "      <td>III - South America</td>\n",
       "      <td>Brazil</td>\n",
       "      <td>UTC-3</td>\n",
       "      <td>http://tempo.inmet.gov.br/WSI/0-76-0-150613900...</td>\n",
       "      <td>https://cidades.ibge.gov.br/brasil/pa/redencao...</td>\n",
       "      <td>Automatic weather station</td>\n",
       "    </tr>\n",
       "    <tr>\n",
       "      <th>2</th>\n",
       "      <td>Zé Doca</td>\n",
       "      <td>0-76-0-2114007000000596</td>\n",
       "      <td>Land (Fixed)</td>\n",
       "      <td>automatic</td>\n",
       "      <td>-3.269194</td>\n",
       "      <td>-45.651083</td>\n",
       "      <td>45.5</td>\n",
       "      <td>2019-07-11</td>\n",
       "      <td>yes</td>\n",
       "      <td>Vaisala</td>\n",
       "      <td>...</td>\n",
       "      <td>yes</td>\n",
       "      <td>GOS</td>\n",
       "      <td>1 hour</td>\n",
       "      <td>Air Temperature (inst, max, min), Relative Hum...</td>\n",
       "      <td>III - South America</td>\n",
       "      <td>Brazil</td>\n",
       "      <td>UTC-3</td>\n",
       "      <td>http://tempo.inmet.gov.br/WSI/0-76-0-211400700...</td>\n",
       "      <td>https://cidades.ibge.gov.br/brasil/ma/ze-doca/...</td>\n",
       "      <td>Automatic weather station</td>\n",
       "    </tr>\n",
       "  </tbody>\n",
       "</table>\n",
       "<p>3 rows × 22 columns</p>\n",
       "</div>"
      ],
      "text/plain": [
       "            name                  wigosid   stationtype  automatic  latitude  \\\n",
       "0  Novo Aripuanã  0-76-0-1303304000000594  Land (Fixed)  automatic -5.141139   \n",
       "1       Redenção  0-76-0-1506139000000593  Land (Fixed)  automatic -8.043250   \n",
       "2        Zé Doca  0-76-0-2114007000000596  Land (Fixed)  automatic -3.269194   \n",
       "\n",
       "   longitude  elevation established international manufacturer  ... real-time  \\\n",
       "0 -60.380531       45.0  2019-07-18           yes      Vaisala  ...       yes   \n",
       "1 -50.006917      199.0  2019-06-17           yes      Vaisala  ...       yes   \n",
       "2 -45.651083       45.5  2019-07-11           yes      Vaisala  ...       yes   \n",
       "\n",
       "  affiliations frequency                                          variables  \\\n",
       "0          GOS    1 hour  Air Temperature (inst, max, min), Relative Hum...   \n",
       "1          GOS    1 hour  Air Temperature (inst, max, min), Relative Hum...   \n",
       "2          GOS    1 hour  Air Temperature (inst, max, min), Relative Hum...   \n",
       "\n",
       "                region country timezone  \\\n",
       "0  III - South America  Brazil    UTC-4   \n",
       "1  III - South America  Brazil    UTC-3   \n",
       "2  III - South America  Brazil    UTC-3   \n",
       "\n",
       "                                                 url  \\\n",
       "0  http://tempo.inmet.gov.br/WSI/0-76-0-130330400...   \n",
       "1  http://tempo.inmet.gov.br/WSI/0-76-0-150613900...   \n",
       "2  http://tempo.inmet.gov.br/WSI/0-76-0-211400700...   \n",
       "\n",
       "                                    other link (url)  \\\n",
       "0  https://cidades.ibge.gov.br/brasil/am/novo-ari...   \n",
       "1  https://cidades.ibge.gov.br/brasil/pa/redencao...   \n",
       "2  https://cidades.ibge.gov.br/brasil/ma/ze-doca/...   \n",
       "\n",
       "                 description  \n",
       "0  Automatic weather station  \n",
       "1  Automatic weather station  \n",
       "2  Automatic weather station  \n",
       "\n",
       "[3 rows x 22 columns]"
      ]
     },
     "execution_count": 2,
     "metadata": {},
     "output_type": "execute_result"
    }
   ],
   "source": [
    "df_stations_orig = pd.read_csv(r'files/Stations_Template-INMET.csv',encoding=\"latin1\") #read the CSV file into a dataframe\n",
    "df_stations_orig.dropna(axis=0, how='any', thresh=None, subset=None, inplace=True) # remove empty rows\n",
    "df_stations_orig = df_stations_orig.rename(columns=lambda x: x.strip().lower() ) #fix column names: remove potential whitespace and make lowecase\n",
    "# rename the column names to expected format \n",
    "column_map = { \n",
    "        'identifier' : 'wigosid' , \n",
    "        'type' : 'stationtype' ,  \n",
    "        'altitude' : 'elevation' , \n",
    "        'creation' : 'established' , \n",
    "        'operational status' : 'status',\n",
    "        'real time' : 'real-time',\n",
    "        'wmo region':'region',\n",
    "        'country / territory' : 'country',\n",
    "        'station url':'url',\n",
    "        'site description' : 'description' , \n",
    "        'time zone':'timezone' }\n",
    "df_stations_orig = df_stations_orig.rename(columns=column_map )\n",
    "df_stations_orig.head(3)"
   ]
  },
  {
   "cell_type": "markdown",
   "metadata": {},
   "source": [
    "## map content to WIGOS metadata record values\n",
    "we need to translate the following fields into WMDR codelists: stationtype, international, real-time, region, country and variables"
   ]
  },
  {
   "cell_type": "code",
   "execution_count": 3,
   "metadata": {},
   "outputs": [],
   "source": [
    "# helper functions to parse the variables and frequency\n",
    "def parseFrequency(x):\n",
    "    \"\"\" Extract schedule and return as seconds\n",
    "    Currently only hours are supported\n",
    "    \"\"\"\n",
    "    m=re.search('(\\d+)\\s+hour',x)\n",
    "    if m:\n",
    "        return int(m.group(1)) * 60 * 60 # we can only recognize hours at the moment in this code\n",
    "    else:\n",
    "        return None\n",
    "\n",
    "var_map = {\n",
    "    'Air Temperature':224,\n",
    "    'Relative Humidity':251,\n",
    "    'Dewpoint':225,\n",
    "    'Atmospheric Pressure':216,\n",
    "    'Winds':[12005,12006],\n",
    "    'Solar Radiation':572,\n",
    "    'Precipitation':210\n",
    "}\n",
    "    \n",
    "def parseVariables(variables):\n",
    "    \"\"\" Extract variables from Excel sheet and return them as numeric WMDR codelist values\"\"\"\n",
    "    res = []\n",
    "    for v in re.sub('\\(.+?\\)','',variables).split(\",\"):\n",
    "        v=v.strip()\n",
    "        tmp = var_map[v]\n",
    "        if not isinstance(tmp, list):\n",
    "            tmp = (tmp,)\n",
    "        res.extend( tmp )\n",
    "        \n",
    "    return res"
   ]
  },
  {
   "cell_type": "markdown",
   "metadata": {},
   "source": [
    "## mapping values from the Excel to WMDR codelist values"
   ]
  },
  {
   "cell_type": "code",
   "execution_count": 4,
   "metadata": {},
   "outputs": [
    {
     "data": {
      "text/html": [
       "<div>\n",
       "<style scoped>\n",
       "    .dataframe tbody tr th:only-of-type {\n",
       "        vertical-align: middle;\n",
       "    }\n",
       "\n",
       "    .dataframe tbody tr th {\n",
       "        vertical-align: top;\n",
       "    }\n",
       "\n",
       "    .dataframe thead th {\n",
       "        text-align: right;\n",
       "    }\n",
       "</style>\n",
       "<table border=\"1\" class=\"dataframe\">\n",
       "  <thead>\n",
       "    <tr style=\"text-align: right;\">\n",
       "      <th></th>\n",
       "      <th>name</th>\n",
       "      <th>wigosid</th>\n",
       "      <th>stationtype</th>\n",
       "      <th>automatic</th>\n",
       "      <th>latitude</th>\n",
       "      <th>longitude</th>\n",
       "      <th>elevation</th>\n",
       "      <th>established</th>\n",
       "      <th>international</th>\n",
       "      <th>manufacturer</th>\n",
       "      <th>...</th>\n",
       "      <th>real-time</th>\n",
       "      <th>affiliations</th>\n",
       "      <th>frequency</th>\n",
       "      <th>variables</th>\n",
       "      <th>region</th>\n",
       "      <th>country</th>\n",
       "      <th>timezone</th>\n",
       "      <th>url</th>\n",
       "      <th>other link (url)</th>\n",
       "      <th>description</th>\n",
       "    </tr>\n",
       "  </thead>\n",
       "  <tbody>\n",
       "    <tr>\n",
       "      <th>0</th>\n",
       "      <td>Novo Aripuanã</td>\n",
       "      <td>0-76-0-1303304000000594</td>\n",
       "      <td>landFixed</td>\n",
       "      <td>automaticReading</td>\n",
       "      <td>-5.141139</td>\n",
       "      <td>-60.380531</td>\n",
       "      <td>45.0</td>\n",
       "      <td>2019-07-18</td>\n",
       "      <td>True</td>\n",
       "      <td>Vaisala</td>\n",
       "      <td>...</td>\n",
       "      <td>True</td>\n",
       "      <td>GOS</td>\n",
       "      <td>3600</td>\n",
       "      <td>[224, 251, 225, 216, 12005, 12006, 572, 210]</td>\n",
       "      <td>southAmerica</td>\n",
       "      <td>BRA</td>\n",
       "      <td>UTC-4</td>\n",
       "      <td>http://tempo.inmet.gov.br/WSI/0-76-0-130330400...</td>\n",
       "      <td>https://cidades.ibge.gov.br/brasil/am/novo-ari...</td>\n",
       "      <td>Automatic weather station</td>\n",
       "    </tr>\n",
       "    <tr>\n",
       "      <th>1</th>\n",
       "      <td>Redenção</td>\n",
       "      <td>0-76-0-1506139000000593</td>\n",
       "      <td>landFixed</td>\n",
       "      <td>automaticReading</td>\n",
       "      <td>-8.043250</td>\n",
       "      <td>-50.006917</td>\n",
       "      <td>199.0</td>\n",
       "      <td>2019-06-17</td>\n",
       "      <td>True</td>\n",
       "      <td>Vaisala</td>\n",
       "      <td>...</td>\n",
       "      <td>True</td>\n",
       "      <td>GOS</td>\n",
       "      <td>3600</td>\n",
       "      <td>[224, 251, 225, 216, 12005, 12006, 572, 210]</td>\n",
       "      <td>southAmerica</td>\n",
       "      <td>BRA</td>\n",
       "      <td>UTC-3</td>\n",
       "      <td>http://tempo.inmet.gov.br/WSI/0-76-0-150613900...</td>\n",
       "      <td>https://cidades.ibge.gov.br/brasil/pa/redencao...</td>\n",
       "      <td>Automatic weather station</td>\n",
       "    </tr>\n",
       "    <tr>\n",
       "      <th>2</th>\n",
       "      <td>Zé Doca</td>\n",
       "      <td>0-76-0-2114007000000596</td>\n",
       "      <td>landFixed</td>\n",
       "      <td>automaticReading</td>\n",
       "      <td>-3.269194</td>\n",
       "      <td>-45.651083</td>\n",
       "      <td>45.5</td>\n",
       "      <td>2019-07-11</td>\n",
       "      <td>True</td>\n",
       "      <td>Vaisala</td>\n",
       "      <td>...</td>\n",
       "      <td>True</td>\n",
       "      <td>GOS</td>\n",
       "      <td>3600</td>\n",
       "      <td>[224, 251, 225, 216, 12005, 12006, 572, 210]</td>\n",
       "      <td>southAmerica</td>\n",
       "      <td>BRA</td>\n",
       "      <td>UTC-3</td>\n",
       "      <td>http://tempo.inmet.gov.br/WSI/0-76-0-211400700...</td>\n",
       "      <td>https://cidades.ibge.gov.br/brasil/ma/ze-doca/...</td>\n",
       "      <td>Automatic weather station</td>\n",
       "    </tr>\n",
       "  </tbody>\n",
       "</table>\n",
       "<p>3 rows × 22 columns</p>\n",
       "</div>"
      ],
      "text/plain": [
       "            name                  wigosid stationtype         automatic  \\\n",
       "0  Novo Aripuanã  0-76-0-1303304000000594   landFixed  automaticReading   \n",
       "1       Redenção  0-76-0-1506139000000593   landFixed  automaticReading   \n",
       "2        Zé Doca  0-76-0-2114007000000596   landFixed  automaticReading   \n",
       "\n",
       "   latitude  longitude  elevation established  international manufacturer  \\\n",
       "0 -5.141139 -60.380531       45.0  2019-07-18           True      Vaisala   \n",
       "1 -8.043250 -50.006917      199.0  2019-06-17           True      Vaisala   \n",
       "2 -3.269194 -45.651083       45.5  2019-07-11           True      Vaisala   \n",
       "\n",
       "   ... real-time affiliations  frequency  \\\n",
       "0  ...      True          GOS       3600   \n",
       "1  ...      True          GOS       3600   \n",
       "2  ...      True          GOS       3600   \n",
       "\n",
       "                                      variables        region country  \\\n",
       "0  [224, 251, 225, 216, 12005, 12006, 572, 210]  southAmerica     BRA   \n",
       "1  [224, 251, 225, 216, 12005, 12006, 572, 210]  southAmerica     BRA   \n",
       "2  [224, 251, 225, 216, 12005, 12006, 572, 210]  southAmerica     BRA   \n",
       "\n",
       "  timezone                                                url  \\\n",
       "0    UTC-4  http://tempo.inmet.gov.br/WSI/0-76-0-130330400...   \n",
       "1    UTC-3  http://tempo.inmet.gov.br/WSI/0-76-0-150613900...   \n",
       "2    UTC-3  http://tempo.inmet.gov.br/WSI/0-76-0-211400700...   \n",
       "\n",
       "                                    other link (url)  \\\n",
       "0  https://cidades.ibge.gov.br/brasil/am/novo-ari...   \n",
       "1  https://cidades.ibge.gov.br/brasil/pa/redencao...   \n",
       "2  https://cidades.ibge.gov.br/brasil/ma/ze-doca/...   \n",
       "\n",
       "                 description  \n",
       "0  Automatic weather station  \n",
       "1  Automatic weather station  \n",
       "2  Automatic weather station  \n",
       "\n",
       "[3 rows x 22 columns]"
      ]
     },
     "execution_count": 4,
     "metadata": {},
     "output_type": "execute_result"
    }
   ],
   "source": [
    "df_stations = df_stations_orig.copy()\n",
    "\n",
    "# here we map the values in the sheet to the WMDR values.\n",
    "type_map = { 'Land (Fixed)' : 'landFixed' }\n",
    "automatic_map = {'automatic':'automaticReading'}\n",
    "status_map = {'operational':'operational'}\n",
    "country_map = {'Brazil':'BRA'}\n",
    "region_map = {'III - South America':'southAmerica'}\n",
    "\n",
    "# perform the mapping \n",
    "df_stations[\"stationtype\"] = df_stations[\"stationtype\"].map(type_map) \n",
    "df_stations[\"automatic\"] = df_stations[\"automatic\"].map(automatic_map) \n",
    "df_stations[\"status\"] = df_stations[\"status\"].map(status_map) \n",
    "\n",
    "df_stations[\"international\"] = df_stations[\"international\"].astype(bool)\n",
    "df_stations[\"real-time\"] = df_stations[\"real-time\"].astype(bool)\n",
    "\n",
    "df_stations[\"region\"] = df_stations[\"region\"].map(region_map)\n",
    "df_stations[\"country\"] = df_stations[\"country\"].map(country_map)\n",
    "\n",
    "df_stations[\"frequency\"]=df_stations[\"frequency\"].apply(parseFrequency).astype(int)\n",
    "df_stations[\"variables\"]=df_stations.variables.map(parseVariables)\n",
    "df_stations.head(3)"
   ]
  },
  {
   "cell_type": "markdown",
   "metadata": {},
   "source": [
    "## creating Station objects and exporting the XML or uploading it to OSCAR/Surface"
   ]
  },
  {
   "cell_type": "code",
   "execution_count": 9,
   "metadata": {},
   "outputs": [],
   "source": [
    "# a client object for the interaction with OSCAR/Surface\n",
    "client = OscarClient(oscarurl = OscarClient.OSCAR_DEPL, token=\"my_token\")"
   ]
  },
  {
   "cell_type": "code",
   "execution_count": 10,
   "metadata": {},
   "outputs": [
    {
     "name": "stderr",
     "output_type": "stream",
     "text": [
      "INFO:oscar_lib.oscar_client:upload ok, new id 44250 The list below is organized by section header and shows exceptions/issues – if any – that may have resulted from the processing of the XML (NB: Section headers are always displayed).\n",
      "# Facility with identifier \"0-76-0-1303304000000594\"\n",
      "REF_9: The elements \"observation/OM_Observation/metadata/MD_Metadata/individualName:NAME\" and \"observation/OM_Observation/metadata/MD_Metadata/individualName:SURNAME\" are mandatory.\n",
      "REF_9: The field 'observation/OM_Observation/metadata/MD_Metadata/address/CI_Address/city' is mandatory.\n",
      "REF_3: The country of contact is not provided in \"observation/metadata/MD_metadata/contact/CI_ResponsibleParty\". Contact is discarded.\n",
      "\n"
     ]
    },
    {
     "name": "stdout",
     "output_type": "stream",
     "text": [
      "uploaded 0-76-0-1303304000000594, SUCCESS_WITH_WARNINGS\n"
     ]
    },
    {
     "name": "stderr",
     "output_type": "stream",
     "text": [
      "INFO:oscar_lib.oscar_client:upload ok, new id 44251 The list below is organized by section header and shows exceptions/issues – if any – that may have resulted from the processing of the XML (NB: Section headers are always displayed).\n",
      "# Facility with identifier \"0-76-0-1506139000000593\"\n",
      "REF_9: The elements \"observation/OM_Observation/metadata/MD_Metadata/individualName:NAME\" and \"observation/OM_Observation/metadata/MD_Metadata/individualName:SURNAME\" are mandatory.\n",
      "REF_9: The field 'observation/OM_Observation/metadata/MD_Metadata/address/CI_Address/city' is mandatory.\n",
      "REF_3: The country of contact is not provided in \"observation/metadata/MD_metadata/contact/CI_ResponsibleParty\". Contact is discarded.\n",
      "\n"
     ]
    },
    {
     "name": "stdout",
     "output_type": "stream",
     "text": [
      "uploaded 0-76-0-1506139000000593, SUCCESS_WITH_WARNINGS\n"
     ]
    },
    {
     "name": "stderr",
     "output_type": "stream",
     "text": [
      "INFO:oscar_lib.oscar_client:upload ok, new id 44252 The list below is organized by section header and shows exceptions/issues – if any – that may have resulted from the processing of the XML (NB: Section headers are always displayed).\n",
      "# Facility with identifier \"0-76-0-2114007000000596\"\n",
      "REF_9: The elements \"observation/OM_Observation/metadata/MD_Metadata/individualName:NAME\" and \"observation/OM_Observation/metadata/MD_Metadata/individualName:SURNAME\" are mandatory.\n",
      "REF_9: The field 'observation/OM_Observation/metadata/MD_Metadata/address/CI_Address/city' is mandatory.\n",
      "REF_3: The country of contact is not provided in \"observation/metadata/MD_metadata/contact/CI_ResponsibleParty\". Contact is discarded.\n",
      "\n"
     ]
    },
    {
     "name": "stdout",
     "output_type": "stream",
     "text": [
      "uploaded 0-76-0-2114007000000596, SUCCESS_WITH_WARNINGS\n"
     ]
    },
    {
     "name": "stderr",
     "output_type": "stream",
     "text": [
      "INFO:oscar_lib.oscar_client:upload ok, new id 44253 The list below is organized by section header and shows exceptions/issues – if any – that may have resulted from the processing of the XML (NB: Section headers are always displayed).\n",
      "# Facility with identifier \"0-76-0-2200608000000597\"\n",
      "REF_9: The elements \"observation/OM_Observation/metadata/MD_Metadata/individualName:NAME\" and \"observation/OM_Observation/metadata/MD_Metadata/individualName:SURNAME\" are mandatory.\n",
      "REF_9: The field 'observation/OM_Observation/metadata/MD_Metadata/address/CI_Address/city' is mandatory.\n",
      "REF_3: The country of contact is not provided in \"observation/metadata/MD_metadata/contact/CI_ResponsibleParty\". Contact is discarded.\n",
      "\n"
     ]
    },
    {
     "name": "stdout",
     "output_type": "stream",
     "text": [
      "uploaded 0-76-0-2200608000000597, SUCCESS_WITH_WARNINGS\n"
     ]
    },
    {
     "name": "stderr",
     "output_type": "stream",
     "text": [
      "INFO:oscar_lib.oscar_client:upload ok, new id 44254 The list below is organized by section header and shows exceptions/issues – if any – that may have resulted from the processing of the XML (NB: Section headers are always displayed).\n",
      "# Facility with identifier \"0-76-0-3550902000000592\"\n",
      "REF_9: The elements \"observation/OM_Observation/metadata/MD_Metadata/individualName:NAME\" and \"observation/OM_Observation/metadata/MD_Metadata/individualName:SURNAME\" are mandatory.\n",
      "REF_9: The field 'observation/OM_Observation/metadata/MD_Metadata/address/CI_Address/city' is mandatory.\n",
      "REF_3: The country of contact is not provided in \"observation/metadata/MD_metadata/contact/CI_ResponsibleParty\". Contact is discarded.\n",
      "\n"
     ]
    },
    {
     "name": "stdout",
     "output_type": "stream",
     "text": [
      "uploaded 0-76-0-3550902000000592, SUCCESS_WITH_WARNINGS\n"
     ]
    },
    {
     "name": "stderr",
     "output_type": "stream",
     "text": [
      "INFO:oscar_lib.oscar_client:upload ok, new id 44255 The list below is organized by section header and shows exceptions/issues – if any – that may have resulted from the processing of the XML (NB: Section headers are always displayed).\n",
      "# Facility with identifier \"0-76-0-4304663000000595\"\n",
      "REF_9: The elements \"observation/OM_Observation/metadata/MD_Metadata/individualName:NAME\" and \"observation/OM_Observation/metadata/MD_Metadata/individualName:SURNAME\" are mandatory.\n",
      "REF_9: The field 'observation/OM_Observation/metadata/MD_Metadata/address/CI_Address/city' is mandatory.\n",
      "REF_3: The country of contact is not provided in \"observation/metadata/MD_metadata/contact/CI_ResponsibleParty\". Contact is discarded.\n",
      "\n"
     ]
    },
    {
     "name": "stdout",
     "output_type": "stream",
     "text": [
      "uploaded 0-76-0-4304663000000595, SUCCESS_WITH_WARNINGS\n"
     ]
    },
    {
     "name": "stderr",
     "output_type": "stream",
     "text": [
      "INFO:oscar_lib.oscar_client:upload ok, new id 44256 The list below is organized by section header and shows exceptions/issues – if any – that may have resulted from the processing of the XML (NB: Section headers are always displayed).\n",
      "# Facility with identifier \"0-76-0-4204202000000588\"\n",
      "REF_9: The elements \"observation/OM_Observation/metadata/MD_Metadata/individualName:NAME\" and \"observation/OM_Observation/metadata/MD_Metadata/individualName:SURNAME\" are mandatory.\n",
      "REF_9: The field 'observation/OM_Observation/metadata/MD_Metadata/address/CI_Address/city' is mandatory.\n",
      "REF_3: The country of contact is not provided in \"observation/metadata/MD_metadata/contact/CI_ResponsibleParty\". Contact is discarded.\n",
      "\n"
     ]
    },
    {
     "name": "stdout",
     "output_type": "stream",
     "text": [
      "uploaded 0-76-0-4204202000000588, SUCCESS_WITH_WARNINGS\n"
     ]
    },
    {
     "name": "stderr",
     "output_type": "stream",
     "text": [
      "INFO:oscar_lib.oscar_client:upload ok, new id 44257 The list below is organized by section header and shows exceptions/issues – if any – that may have resulted from the processing of the XML (NB: Section headers are always displayed).\n",
      "# Facility with identifier \"0-76-0-4203600000000587\"\n",
      "REF_9: The elements \"observation/OM_Observation/metadata/MD_Metadata/individualName:NAME\" and \"observation/OM_Observation/metadata/MD_Metadata/individualName:SURNAME\" are mandatory.\n",
      "REF_9: The field 'observation/OM_Observation/metadata/MD_Metadata/address/CI_Address/city' is mandatory.\n",
      "REF_3: The country of contact is not provided in \"observation/metadata/MD_metadata/contact/CI_ResponsibleParty\". Contact is discarded.\n",
      "\n"
     ]
    },
    {
     "name": "stdout",
     "output_type": "stream",
     "text": [
      "uploaded 0-76-0-4203600000000587, SUCCESS_WITH_WARNINGS\n"
     ]
    },
    {
     "name": "stderr",
     "output_type": "stream",
     "text": [
      "INFO:oscar_lib.oscar_client:upload ok, new id 44258 The list below is organized by section header and shows exceptions/issues – if any – that may have resulted from the processing of the XML (NB: Section headers are always displayed).\n",
      "# Facility with identifier \"0-76-0-5107354000000589\"\n",
      "REF_9: The elements \"observation/OM_Observation/metadata/MD_Metadata/individualName:NAME\" and \"observation/OM_Observation/metadata/MD_Metadata/individualName:SURNAME\" are mandatory.\n",
      "REF_9: The field 'observation/OM_Observation/metadata/MD_Metadata/address/CI_Address/city' is mandatory.\n",
      "REF_3: The country of contact is not provided in \"observation/metadata/MD_metadata/contact/CI_ResponsibleParty\". Contact is discarded.\n",
      "\n"
     ]
    },
    {
     "name": "stdout",
     "output_type": "stream",
     "text": [
      "uploaded 0-76-0-5107354000000589, SUCCESS_WITH_WARNINGS\n"
     ]
    },
    {
     "name": "stderr",
     "output_type": "stream",
     "text": [
      "INFO:oscar_lib.oscar_client:upload ok, new id 44259 The list below is organized by section header and shows exceptions/issues – if any – that may have resulted from the processing of the XML (NB: Section headers are always displayed).\n",
      "# Facility with identifier \"0-76-0-5100359000000590\"\n",
      "REF_9: The elements \"observation/OM_Observation/metadata/MD_Metadata/individualName:NAME\" and \"observation/OM_Observation/metadata/MD_Metadata/individualName:SURNAME\" are mandatory.\n",
      "REF_9: The field 'observation/OM_Observation/metadata/MD_Metadata/address/CI_Address/city' is mandatory.\n",
      "REF_3: The country of contact is not provided in \"observation/metadata/MD_metadata/contact/CI_ResponsibleParty\". Contact is discarded.\n",
      "\n"
     ]
    },
    {
     "name": "stdout",
     "output_type": "stream",
     "text": [
      "uploaded 0-76-0-5100359000000590, SUCCESS_WITH_WARNINGS\n"
     ]
    },
    {
     "name": "stderr",
     "output_type": "stream",
     "text": [
      "INFO:oscar_lib.oscar_client:upload ok, new id 44260 The list below is organized by section header and shows exceptions/issues – if any – that may have resulted from the processing of the XML (NB: Section headers are always displayed).\n",
      "# Facility with identifier \"0-76-0-5107701000000591\"\n",
      "REF_9: The elements \"observation/OM_Observation/metadata/MD_Metadata/individualName:NAME\" and \"observation/OM_Observation/metadata/MD_Metadata/individualName:SURNAME\" are mandatory.\n",
      "REF_9: The field 'observation/OM_Observation/metadata/MD_Metadata/address/CI_Address/city' is mandatory.\n",
      "REF_3: The country of contact is not provided in \"observation/metadata/MD_metadata/contact/CI_ResponsibleParty\". Contact is discarded.\n",
      "\n"
     ]
    },
    {
     "name": "stdout",
     "output_type": "stream",
     "text": [
      "uploaded 0-76-0-5107701000000591, SUCCESS_WITH_WARNINGS\n"
     ]
    }
   ],
   "source": [
    "# default schedule . We overwrite values with values from the Excel sheet where available\n",
    "default_schedule = {   \n",
    "   \"startMonth\": 1,   \"endMonth\": 12,\n",
    "   \"startWeekday\": 1, \"endWeekday\": 7,\n",
    "   \"startHour\": 0,    \"endHour\": 23,\n",
    "   \"startMinute\": 0,  \"endMinute\": 59,\n",
    "   \"interval\": 60*60, \"international\": True , \"real-time\" : True # we overwrite these with the values from Excel\n",
    "}\n",
    "\n",
    "# loop over the rows in the Excel\n",
    "for idx,row in df_stations[df_stations[\"in oscar\"] == \"yes\"].iterrows():  \n",
    "    # most parameters needed in the constructor of Station are already in the dictionary, as we renamed columns above\n",
    "    params = dict(row)\n",
    "    \n",
    "    #adding custom information\n",
    "    params[\"organization\"] = \"INMET\" # I looked up this abbreviation from the field \"supervising organization\" in the station search dialogue in OSCAR\n",
    "    params[\"urls\"] = [params[\"url\"], params[\"other link (url)\"]] # pass multiple urls as a lisst\n",
    "    params[\"description\"] = params[\"description\"] + \". Station manufacturer is \" + params[\"manufacturer\"] # we integrate the manufactures in the site description \n",
    "    \n",
    "    # we need to take care of the observations and schedules\n",
    "    observations = []\n",
    "    for v in row[\"variables\"]:\n",
    "        new_schedule = default_schedule.copy()\n",
    "        new_schedule[\"international\"] = row[\"international\"]\n",
    "        new_schedule[\"interval\"] = row[\"frequency\"]\n",
    "        new_schedule[\"real-time\"] = row[\"real-time\"]\n",
    "        \n",
    "        observation = { \n",
    "            \"variable\" : v , \"observationsource\" : params[\"automatic\"] , \n",
    "            \"affiliation\": params[\"affiliations\"] , \"schedule\" : new_schedule \n",
    "        }\n",
    "        observations.append(observation)\n",
    "        \n",
    "    params[\"observations\"] = observations\n",
    "        \n",
    "    s = Station(**params)\n",
    "        \n",
    "    try:\n",
    "        s.validate()\n",
    "        \n",
    "        # write XML to disk\n",
    "        with open(r\"tmp/{}.xml\".format(row[\"wigosid\"]),\"w\",encoding=\"utf8\") as f: \n",
    "            f.write(str(s))\n",
    "            \n",
    "        # upload to OSCAR\n",
    "        status=client.uploadXML(str(s))\n",
    "        print(\"uploaded {}, {}\".format(row[\"wigosid\"],status))\n",
    "\n",
    "    except Exception as e:\n",
    "        print(\"error:\",e)\n"
   ]
  },
  {
   "cell_type": "code",
   "execution_count": null,
   "metadata": {},
   "outputs": [],
   "source": []
  }
 ],
 "metadata": {
  "kernelspec": {
   "display_name": "Python 3",
   "language": "python",
   "name": "python3"
  },
  "language_info": {
   "codemirror_mode": {
    "name": "ipython",
    "version": 3
   },
   "file_extension": ".py",
   "mimetype": "text/x-python",
   "name": "python",
   "nbconvert_exporter": "python",
   "pygments_lexer": "ipython3",
   "version": "3.7.3"
  }
 },
 "nbformat": 4,
 "nbformat_minor": 2
}
