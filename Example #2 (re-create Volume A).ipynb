{
 "cells": [
  {
   "cell_type": "code",
   "execution_count": 97,
   "metadata": {},
   "outputs": [],
   "source": [
    "import requests\n",
    "import json\n",
    "from lxml import etree\n",
    "from io import StringIO, BytesIO\n",
    "import re\n",
    "from math import *\n"
   ]
  },
  {
   "cell_type": "code",
   "execution_count": 98,
   "metadata": {},
   "outputs": [],
   "source": [
    "BASE_URL = 'https://oscar.wmo.int/surface/rest/api'\n",
    "SEARCH_API = BASE_URL + '/search/station?'\n",
    "XML_DOWNLOAD_URL = BASE_URL + \"/wmd/download/\" "
   ]
  },
  {
   "cell_type": "code",
   "execution_count": 113,
   "metadata": {},
   "outputs": [],
   "source": [
    "def deg_min_sec(degrees = 0.0,long=False):\n",
    "    if type(degrees) != 'float':\n",
    "        try:\n",
    "            degrees = float(degrees)\n",
    "        except:\n",
    "            print( '\\nERROR: Could not convert %s to float.' %(type(degrees)))\n",
    "            return 0\n",
    "    minutes = degrees%1.0*60\n",
    "    seconds = minutes%1.0*60\n",
    "    n = \"S\" if degrees < 0 else \"N\"\n",
    "    n = \"E\" if (degrees < 0 and long) else \"W\"\n",
    "    \n",
    "    return \"{deg:03d} {mint:02d} {sec:02d}{n}\".format( deg= int(floor(degrees)), mint=int(floor(minutes)), sec=int(seconds), n=n)\n"
   ]
  },
  {
   "cell_type": "code",
   "execution_count": 32,
   "metadata": {},
   "outputs": [],
   "source": [
    "variables = [216,224, 227, 256, 310, 12000]\n",
    "networks = ['GOS','RBSN','RBSNp','RBSNs','RBSNsp','RBSNst','RBSNt','ANTON','ANTONt']\n",
    "statuses = ['operational','preOperational','partlyOperational']\n",
    "# we search for Romanian stations to keep the result set smaller \n",
    "arg = \"territoryName=ROU&territoryName=landFixed&ProgramAffiliation={affiliation}&ObservedVariable={variable}\""
   ]
  },
  {
   "cell_type": "code",
   "execution_count": 105,
   "metadata": {},
   "outputs": [],
   "source": [
    "r = requests.get(SEARCH_API + arg)\n",
    "if r.status_code != 200:\n",
    "    print(\"ERROR: status: {}\".format(r.status_code))\n",
    "    sys.exit(1)"
   ]
  },
  {
   "cell_type": "code",
   "execution_count": 106,
   "metadata": {},
   "outputs": [
    {
     "name": "stdout",
     "output_type": "stream",
     "text": [
      "we have 167 results\n"
     ]
    }
   ],
   "source": [
    "result = r.json()\n",
    "print(\"we have {} results\".format(len(result)))"
   ]
  },
  {
   "cell_type": "code",
   "execution_count": 107,
   "metadata": {},
   "outputs": [
    {
     "data": {
      "text/plain": [
       "{'id': 3656,\n",
       " 'name': 'ADAMCLISI',\n",
       " 'region': 'Europe',\n",
       " 'territory': 'Romania',\n",
       " 'declaredStatus': 'Operational',\n",
       " 'latitude': 44.0882700719,\n",
       " 'longitude': 27.965626028,\n",
       " 'elevation': 158,\n",
       " 'stationTypeName': 'Land (fixed)',\n",
       " 'wigosStationIdentifiers': [{'wigosStationIdentifier': '0-20000-0-15479',\n",
       "   'primary': True}],\n",
       " 'stationTypeId': 1,\n",
       " 'dateEstablished': '1956-07-31T23:00:00.000+0000',\n",
       " 'stationStatusCode': 'operational',\n",
       " 'stationTypeCode': 'landOceanSurface',\n",
       " 'stationProgramsDeclaredStatuses': 'GOS:Operational'}"
      ]
     },
     "execution_count": 107,
     "metadata": {},
     "output_type": "execute_result"
    }
   ],
   "source": [
    "result[0]"
   ]
  },
  {
   "cell_type": "code",
   "execution_count": 108,
   "metadata": {},
   "outputs": [],
   "source": [
    "# extract primary wigos id from result, if there is a primary wigos id\n",
    "station_infos = {wid['wigosStationIdentifier']:station for station in result if 'wigosStationIdentifiers' in station for wid in station['wigosStationIdentifiers']  }\n"
   ]
  },
  {
   "cell_type": "code",
   "execution_count": 111,
   "metadata": {},
   "outputs": [
    {
     "name": "stdout",
     "output_type": "stream",
     "text": [
      "0-20000-0-15479 15479 0 \n",
      "0-20000-0-15219 15219 0 \n",
      "0-20000-0-15208 15208 0 \n",
      "0-20000-0-15489 15489 0 \n"
     ]
    }
   ],
   "source": [
    "results = []\n",
    "i=0\n",
    "for wid,station in station_infos.items():\n",
    "    url = XML_DOWNLOAD_URL + wid\n",
    "    #r = requests.get(url)\n",
    "    \n",
    "    if r.status_code == 200:\n",
    "        #root = etree.fromstring(r.content)\n",
    "        \n",
    "        region = station['region']\n",
    "        region_id = station['region']\n",
    "        country = station['territory']\n",
    "        country_id = station['territory']\n",
    "        \n",
    "        latitude = station['latitude']\n",
    "        longitude = station['longitude']\n",
    "        elevation = station['elevation']\n",
    "        \n",
    "        internal_id = station['id']\n",
    "               \n",
    "        station_id = wid\n",
    "        \n",
    "        index = None\n",
    "        sub_index = None\n",
    "        name = station['name']\n",
    "        \n",
    "        m = re.match('0-2000([0-1])-0-(.*)',station_id)\n",
    "        \n",
    "        if m:\n",
    "            index = m.group(2)\n",
    "            sub_index = m.group(1)\n",
    "        \n",
    "        \n",
    "        print(\"{wigosid} {index} {subindex} \".format(wigosid=station_id,index=index,subindex=sub_index))\n",
    "        \n",
    "        \n",
    "        item= {'RegionIDd': None, 'Region Name':None,'Country Area':None,'Country Code':None,\n",
    "               'StationId':internal_id ,'IndexNbr': index ,'Index SubNbr' : sub_index, 'Station Name': name,\n",
    "               'Lat' : deg_min_sec( latitude), 'Long': deg_min_sec(longitude, True), 'Hp' : None , 'HpFlag' : None, 'Hha':None, 'HhaFlag':None,\n",
    "               'PressureDefId':None,\n",
    "               'SO-1':None,'SO-2':None,'SO-3':None,'SO-4':None,'SO-5':None,'SO-6':None,'ObsHs' : None,\n",
    "               'UA-1':None,'UA-2':None,'UA-3':None,'UA-4':None,\n",
    "               'ObsRems':None\n",
    "               \n",
    "              }\n",
    "        results.append(item)\n",
    "        \n",
    "        \n",
    "    else:\n",
    "        print(\"WARNING: failed to download {wid} {r}\".format(wid=wid,r=r))\n",
    "        \n",
    "        \n",
    "    if i>2:\n",
    "        break\n",
    "    i=i+1"
   ]
  },
  {
   "cell_type": "code",
   "execution_count": 112,
   "metadata": {},
   "outputs": [
    {
     "name": "stdout",
     "output_type": "stream",
     "text": [
      "RegionIDd,Region Name,Country Area,Country Code,StationId,IndexNbr,Index SubNbr,Station Name,Lat,Long,Hp,HpFlag,Hha,HhaFlag,PressureDefId,SO-1,SO-2,SO-3,SO-4,SO-5,SO-6,ObsHs,UA-1,UA-2,UA-3,UA-4,ObsRems\r\n",
      ",,,,3656,15479,0,ADAMCLISI,044 05 17W,027 57 56W,,,,,,,,,,,,,,,,,\r\n",
      ",,,,3571,15219,0,ADJUD,046 06 17W,027 10 13W,,,,,,,,,,,,,,,,,\r\n",
      ",,,,3567,15208,0,ALBA IULIA,046 03 50W,023 33 48W,,,,,,,,,,,,,,,,,\r\n",
      ",,,,3659,15489,0,ALEXANDRIA,043 58 40W,025 21 10W,,,,,,,,,,,,,,,,,\r\n",
      "\n"
     ]
    }
   ],
   "source": [
    "import csv,io\n",
    "with io.StringIO() as csvfile:\n",
    "    if results:\n",
    "        fieldnames = results[0].keys()\n",
    "        writer = csv.DictWriter(csvfile, fieldnames=fieldnames)\n",
    "        writer.writeheader()\n",
    "\n",
    "        for r in results:\n",
    "            writer.writerow(r)\n",
    "\n",
    "        print(csvfile.getvalue())"
   ]
  },
  {
   "cell_type": "code",
   "execution_count": null,
   "metadata": {},
   "outputs": [],
   "source": []
  }
 ],
 "metadata": {
  "kernelspec": {
   "display_name": "Python 3",
   "language": "python",
   "name": "python3"
  },
  "language_info": {
   "codemirror_mode": {
    "name": "ipython",
    "version": 3
   },
   "file_extension": ".py",
   "mimetype": "text/x-python",
   "name": "python",
   "nbconvert_exporter": "python",
   "pygments_lexer": "ipython3",
   "version": "3.7.3"
  }
 },
 "nbformat": 4,
 "nbformat_minor": 2
}
