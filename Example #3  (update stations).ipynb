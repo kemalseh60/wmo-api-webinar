{
 "cells": [
  {
   "cell_type": "markdown",
   "metadata": {},
   "source": [
    "Updating stations in OSCAR/Surface\n",
    "---\n",
    "> **Example #3:** We will update the schedules of German stations. We want to update stations that only have a _30 min reporting interval_ . Their reporting interval  should be changed to 1h and the international exchange flag set to _true_. In case there is no information on start and endtime of the schedule, set it to correspond to a 7/24 schedule.\n",
    "\n",
    "***Note***: we limit ourselves to observations tracked by WDMQS for the purpose of this exercise. We thus look for **ongoing** observations of _pressure, temperature, wind_ and _humidity_ at stations.\n",
    "\n",
    "\n"
   ]
  },
  {
   "cell_type": "code",
   "execution_count": 1,
   "metadata": {},
   "outputs": [
    {
     "name": "stderr",
     "output_type": "stream",
     "text": [
      "INFO:root:loading schema files\n",
      "INFO:root:schema parsed sucessfully\n",
      "INFO:root:schema parsed sucessfully\n",
      "INFO:root:loading XSLT files\n",
      "INFO:root:XSLT parsed sucessfully\n",
      "INFO:root:XSLT simple2wmdr parsed sucessfully\n"
     ]
    }
   ],
   "source": [
    "import json\n",
    "import sys\n",
    "import logging\n",
    "logging.basicConfig(level=logging.INFO)\n",
    "\n",
    "from oscar_lib import OscarClient, extractSchedules, Station\n",
    "\n",
    "wdqms_variables = [216,210,224,251,309,12005,12006] # pressure,precipitation,temperature,humidity,wind deprecated, wind speed, wind direction"
   ]
  },
  {
   "cell_type": "code",
   "execution_count": 3,
   "metadata": {},
   "outputs": [
    {
     "name": "stderr",
     "output_type": "stream",
     "text": [
      "WARNING:oscar_lib.oscar_client:deprecated: use oscar_search instead\n",
      "INFO:oscar_lib.oscar_client:searching for {'territoryName': 'DEU', 'facilityType': 'landFixed'} at https://oscardepl.wmo.int/surface//rest/api/search/station\n"
     ]
    }
   ],
   "source": [
    "client = OscarClient(oscar_url = OscarClient.OSCAR_DEPL, token=\"248eadae-8d38-4410-85c9-ccfd0ba897fa\")\n",
    "stations=client.oscarSearch({'territoryName':'DEU', 'facilityType':'landFixed'})"
   ]
  },
  {
   "cell_type": "code",
   "execution_count": 4,
   "metadata": {},
   "outputs": [
    {
     "data": {
      "text/plain": [
       "{'id': 12494,\n",
       " 'name': 'FILCHNER',\n",
       " 'region': 'Antarctica',\n",
       " 'territory': 'Germany',\n",
       " 'declaredStatus': 'Operational',\n",
       " 'latitude': -80.43681,\n",
       " 'longitude': -44.43199,\n",
       " 'elevation': 103,\n",
       " 'stationTypeName': 'Land (fixed)',\n",
       " 'wigosStationIdentifiers': [{'wigosStationIdentifier': '0-20000-0-89047',\n",
       "   'primary': True}],\n",
       " 'stationTypeId': 1,\n",
       " 'dateEstablished': '2016-01-14T23:00:00.000+0000',\n",
       " 'stationStatusCode': 'operational',\n",
       " 'stationTypeCode': 'landOceanSurface',\n",
       " 'stationProgramsDeclaredStatuses': 'GOS:Operational'}"
      ]
     },
     "execution_count": 4,
     "metadata": {},
     "output_type": "execute_result"
    }
   ],
   "source": [
    "# print out the first search result\n",
    "stations[\"data\"][0] "
   ]
  },
  {
   "cell_type": "code",
   "execution_count": 5,
   "metadata": {},
   "outputs": [
    {
     "data": {
      "text/plain": [
       "['0-20000-0-89047',\n",
       " '0-20000-0-89003',\n",
       " '0-20000-0-89002',\n",
       " '0-20008-0-NMY',\n",
       " '0-20000-0-89011']"
      ]
     },
     "execution_count": 5,
     "metadata": {},
     "output_type": "execute_result"
    }
   ],
   "source": [
    "# collect primary wigos ids from search result. \n",
    "# Need to loop through search result and potential multiple wigos ids to find the primary one\n",
    "german_station_wigosids = [ wid[\"wigosStationIdentifier\"] for station in stations[\"data\"] for wid in station[\"wigosStationIdentifiers\"] if wid[\"primary\"] ]\n",
    "\n",
    "#print out first 5 entries\n",
    "german_station_wigosids[0:5]"
   ]
  },
  {
   "cell_type": "code",
   "execution_count": 6,
   "metadata": {},
   "outputs": [
    {
     "name": "stderr",
     "output_type": "stream",
     "text": [
      "INFO:root:input not JSON.. try XML in WMDR\n",
      "INFO:root:station initialized\n"
     ]
    },
    {
     "name": "stdout",
     "output_type": "stream",
     "text": [
      "init\n"
     ]
    },
    {
     "name": "stderr",
     "output_type": "stream",
     "text": [
      "INFO:root:input not JSON.. try XML in WMDR\n",
      "INFO:root:station initialized\n"
     ]
    },
    {
     "name": "stdout",
     "output_type": "stream",
     "text": [
      "init\n"
     ]
    },
    {
     "name": "stderr",
     "output_type": "stream",
     "text": [
      "INFO:root:input not JSON.. try XML in WMDR\n",
      "INFO:root:station initialized\n"
     ]
    },
    {
     "name": "stdout",
     "output_type": "stream",
     "text": [
      "init\n"
     ]
    },
    {
     "name": "stderr",
     "output_type": "stream",
     "text": [
      "INFO:root:input not JSON.. try XML in WMDR\n",
      "INFO:root:station initialized\n"
     ]
    },
    {
     "name": "stdout",
     "output_type": "stream",
     "text": [
      "init\n"
     ]
    },
    {
     "name": "stderr",
     "output_type": "stream",
     "text": [
      "INFO:root:input not JSON.. try XML in WMDR\n",
      "INFO:root:station initialized\n"
     ]
    },
    {
     "name": "stdout",
     "output_type": "stream",
     "text": [
      "init\n"
     ]
    },
    {
     "name": "stderr",
     "output_type": "stream",
     "text": [
      "INFO:root:input not JSON.. try XML in WMDR\n",
      "INFO:root:station initialized\n"
     ]
    },
    {
     "name": "stdout",
     "output_type": "stream",
     "text": [
      "init\n"
     ]
    },
    {
     "name": "stderr",
     "output_type": "stream",
     "text": [
      "INFO:root:input not JSON.. try XML in WMDR\n",
      "INFO:root:station initialized\n"
     ]
    },
    {
     "name": "stdout",
     "output_type": "stream",
     "text": [
      "init\n"
     ]
    },
    {
     "name": "stderr",
     "output_type": "stream",
     "text": [
      "INFO:root:input not JSON.. try XML in WMDR\n",
      "INFO:root:station initialized\n"
     ]
    },
    {
     "name": "stdout",
     "output_type": "stream",
     "text": [
      "init\n"
     ]
    },
    {
     "name": "stderr",
     "output_type": "stream",
     "text": [
      "INFO:root:input not JSON.. try XML in WMDR\n",
      "INFO:root:station initialized\n"
     ]
    },
    {
     "name": "stdout",
     "output_type": "stream",
     "text": [
      "init\n"
     ]
    },
    {
     "name": "stderr",
     "output_type": "stream",
     "text": [
      "INFO:root:input not JSON.. try XML in WMDR\n",
      "INFO:root:station initialized\n"
     ]
    },
    {
     "name": "stdout",
     "output_type": "stream",
     "text": [
      "init\n"
     ]
    }
   ],
   "source": [
    "limit=10\n",
    "station_map = {}\n",
    "for wigos_id in german_station_wigosids[0:min(limit,len(german_station_wigosids))]:\n",
    "    try:\n",
    "        myxml = client.load_station(wigos_id=wigos_id)\n",
    "        s = Station(myxml)\n",
    "        \n",
    "        if \"20008\" in wigos_id: # ignore GAWSIS stations\n",
    "            continue\n",
    "        \n",
    "        # check if the station has at least one ongoing 30 min schedule (for WDQMS relevant variables)\n",
    "        schedules = s.current_schedules(variables=wdqms_variables)\n",
    "\n",
    "        # loop through nested datastructure and check if interval is 30min\n",
    "        intervals = [ dg[\"schedule\"][\"interval\"] == \"PT30M\" for o in schedules.values() for d in o[\"deployments\"] for dg in d[\"datagenerations\"] ]\n",
    "\n",
    "        if any(intervals): # we consider the station as long as there is one 30min schedule\n",
    "            station_map[wigos_id]=s\n",
    "    \n",
    "    except Exception as e:\n",
    "        print(\"error loading station {} {}\".format(wigos_id,str(e)))\n"
   ]
  },
  {
   "cell_type": "markdown",
   "metadata": {},
   "source": [
    "Output a schedule of a station. 251 stands for [humidity](https://codes.wmo.int/wmdr/ObservedVariableAtmosphere/_251)"
   ]
  },
  {
   "cell_type": "code",
   "execution_count": 7,
   "metadata": {},
   "outputs": [
    {
     "name": "stdout",
     "output_type": "stream",
     "text": [
      "{\n",
      " \"gid\": \"id_261cc340-9621-48d8-908c-14a6fe30480f\",\n",
      " \"variableid\": \"http://codes.wmo.int/wmdr/ObservedVariableAtmosphere/251\",\n",
      " \"deployments\": [\n",
      "  {\n",
      "   \"gid\": \"id_4d842e96-a8e9-4940-bf72-f02d62a2c3f8\",\n",
      "   \"from\": \"2016-01-12T00:00:00Z\",\n",
      "   \"to\": null,\n",
      "   \"datagenerations\": [\n",
      "    {\n",
      "     \"gid\": \"id_a1d9793a-d1b7-404e-8dcb-56d7b636a5c9\",\n",
      "     \"schedule\": {\n",
      "      \"from\": \"2016-01-12T00:00:00Z\",\n",
      "      \"to\": null,\n",
      "      \"startMonth\": 1,\n",
      "      \"endMonth\": 12,\n",
      "      \"startWeekday\": 1,\n",
      "      \"endWeekday\": 7,\n",
      "      \"startHour\": 20,\n",
      "      \"endHour\": 19,\n",
      "      \"startMinute\": 0,\n",
      "      \"endMinute\": 59,\n",
      "      \"interval\": \"PT30M\",\n",
      "      \"international\": true\n",
      "     }\n",
      "    }\n",
      "   ]\n",
      "  }\n",
      " ]\n",
      "}\n"
     ]
    }
   ],
   "source": [
    "# output a schedule of a station. 251 is \n",
    "print(json.dumps(list(station_map.values())[0].current_schedules()[251],indent=1))"
   ]
  },
  {
   "cell_type": "markdown",
   "metadata": {},
   "source": [
    "### update strategy: \n",
    " 1. set 1h international 7/24 schedule for \"ongoing\" schedules. \n",
    " 2. other schedules will be merged with the same 1h international 7/24 schedule, preserving the elements present in the original schedule\n",
    "\n"
   ]
  },
  {
   "cell_type": "code",
   "execution_count": 8,
   "metadata": {},
   "outputs": [],
   "source": [
    "defaultSchedule = { \n",
    "    \"from\": \"2016-04-28T00:00:00Z\", \"to\" : None,     \n",
    "    \"startMonth\": 1,\"endMonth\": 12,\n",
    "    \"startWeekday\": 1, \"endWeekday\": 7,\n",
    "    \"startHour\": 0, \"startMinute\": 0,          \n",
    "    \"endHour\": 23,    \"endMinute\": 59,\n",
    "    \"interval\": \"PT1H\",     \"international\": True   \n",
    "}\n"
   ]
  },
  {
   "cell_type": "code",
   "execution_count": 9,
   "metadata": {},
   "outputs": [
    {
     "name": "stdout",
     "output_type": "stream",
     "text": [
      "updating station 0-20000-0-10505\n",
      "validates ok\n",
      "saved 0-20000-0-10505\n",
      "updating station 0-20000-0-10309\n",
      "validates ok\n",
      "saved 0-20000-0-10309\n",
      "updating station 0-20000-0-10442\n",
      "validates ok\n",
      "saved 0-20000-0-10442\n",
      "updating station 0-20000-0-10520\n",
      "validates ok\n",
      "saved 0-20000-0-10520\n"
     ]
    }
   ],
   "source": [
    "for wigos_id,station in station_map.items():\n",
    "    print(\"updating station\",wigos_id)\n",
    "    \n",
    "    current_schedules = station.current_schedules() # get \"ongoing\" schedules\n",
    "    for current_schedule in current_schedules.values():\n",
    "        for d in current_schedule[\"deployments\"]:\n",
    "            for dg in d[\"datagenerations\"]:\n",
    "                gid=dg[\"gid\"]\n",
    "                schedule=dg[\"schedule\"]\n",
    "                \n",
    "                station.fix_and_update_datageneration(gid,defaultSchedule) \n",
    "\n",
    "    try:\n",
    "        station.validate()\n",
    "        print(\"validates ok\")\n",
    "    except: # if there are remaining validation issues\n",
    "        print(\"fixing remaining schedules\")\n",
    "        station.fix_deployments(mode=\"update\",defaultSchedule=defaultSchedule) #merge remaining eronous schedules\n",
    "\n",
    "    station.validate()\n",
    "    \n",
    "    \n",
    "    station.save(client)\n",
    "    print(\"saved\",wigos_id)\n",
    "    "
   ]
  },
  {
   "cell_type": "code",
   "execution_count": null,
   "metadata": {},
   "outputs": [],
   "source": []
  }
 ],
 "metadata": {
  "kernelspec": {
   "display_name": "Python 3",
   "language": "python",
   "name": "python3"
  },
  "language_info": {
   "codemirror_mode": {
    "name": "ipython",
    "version": 3
   },
   "file_extension": ".py",
   "mimetype": "text/x-python",
   "name": "python",
   "nbconvert_exporter": "python",
   "pygments_lexer": "ipython3",
   "version": "3.7.3"
  }
 },
 "nbformat": 4,
 "nbformat_minor": 2
}
