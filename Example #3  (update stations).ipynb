{
 "cells": [
  {
   "cell_type": "markdown",
   "metadata": {},
   "source": [
    "Updating stations in OSCAR/Surface\n",
    "---\n",
    "> **Example #3:** We will update the schedules of German stations. (A) All stations that have been edited _in the last two years_ ***and*** have a _1h reporting interval_ ***as well as*** a _30 minute reporting interval_ should have the international exchange flag set to _true_ for the _30 min interval_ and to _false_ for the _1h interval_.  (B) Stations that only have a _30 min reporting interval_ should have this reporting interval changed to 1h and the international exchange flag set to _true_."
   ]
  },
  {
   "cell_type": "code",
   "execution_count": null,
   "metadata": {},
   "outputs": [],
   "source": []
  }
 ],
 "metadata": {
  "kernelspec": {
   "display_name": "Python 3",
   "language": "python",
   "name": "python3"
  },
  "language_info": {
   "codemirror_mode": {
    "name": "ipython",
    "version": 3
   },
   "file_extension": ".py",
   "mimetype": "text/x-python",
   "name": "python",
   "nbconvert_exporter": "python",
   "pygments_lexer": "ipython3",
   "version": "3.7.3"
  }
 },
 "nbformat": 4,
 "nbformat_minor": 2
}
